{
 "cells": [
  {
   "cell_type": "markdown",
   "id": "82ed1044",
   "metadata": {},
   "source": [
    "# Spam-ham classifier using multinomial naive bayes classification"
   ]
  },
  {
   "cell_type": "code",
   "execution_count": 1,
   "id": "840542bb",
   "metadata": {},
   "outputs": [],
   "source": [
    "import numpy as np\n",
    "import pandas as pd\n",
    "import matplotlib.pyplot as plt"
   ]
  },
  {
   "cell_type": "code",
   "execution_count": 8,
   "id": "6538ba51",
   "metadata": {},
   "outputs": [
    {
     "name": "stdout",
     "output_type": "stream",
     "text": [
      "       target                    text\n",
      "count    5572                    5572\n",
      "unique      2                    5169\n",
      "top       ham  Sorry, I'll call later\n",
      "freq     4825                      30\n",
      "\n",
      "Example spam mail:\n",
      "Not heard from U4 a while. Call me now am here all night with just my knickers on. Make me beg for it like U did last time 01223585236 XX Luv Nikiyu4.net\n"
     ]
    }
   ],
   "source": [
    "# import data from https://www.kaggle.com/uciml/sms-spam-collection-dataset\n",
    "message_df = pd.read_csv('./data/spam-ham-dataset/spam.csv')\n",
    "message_df = message_df[['v1','v2']]\n",
    "message_df.columns = ['target','text']\n",
    "print(message_df.describe())\n",
    "\n",
    "#convert target to binary\n",
    "message_df['target']=(message_df['target']=='ham')\n",
    "\n",
    "print('\\nExample spam mail:')\n",
    "print(message_df[message_df['target']==False]['text'].sample(1).values[0])"
   ]
  },
  {
   "cell_type": "code",
   "execution_count": 27,
   "id": "97ec600b",
   "metadata": {},
   "outputs": [
    {
     "name": "stdout",
     "output_type": "stream",
     "text": [
      "[('go', 740), ('until', 1812), ('point', 1324), ('crazy', 452), ('available', 222), ('only', 1234), ('in', 880), ('bugis', 310), ('great', 756), ('world', 1952)]\n",
      "2000\n"
     ]
    }
   ],
   "source": [
    "# implement bag-of-words\n",
    "from sklearn.feature_extraction.text import CountVectorizer\n",
    "\n",
    "count = CountVectorizer(strip_accents='ascii',max_features=2000)\n",
    "bow = count.fit_transform(message_df['text'])\n",
    "print(list(count.vocabulary_.items())[:10])\n",
    "print(len(count.vocabulary_))"
   ]
  },
  {
   "cell_type": "code",
   "execution_count": 79,
   "id": "31806dc1",
   "metadata": {},
   "outputs": [
    {
     "name": "stdout",
     "output_type": "stream",
     "text": [
      "Cross validated dummy score:\n",
      "accuracy: 0.760\n",
      "recall: 0.852\n",
      "precision: 0.868\n",
      "f1: 0.860\n",
      "\n",
      "Cross validated MN-NB classifier score:\n",
      "accuracy: 0.986\n",
      "recall: 0.992\n",
      "precision: 0.991\n",
      "f1: 0.992\n",
      "\n",
      "Test set accuracy:\n",
      "Dummy: 0.783\n",
      "MN-NB classifier: 0.986\n"
     ]
    }
   ],
   "source": [
    "# define models (dummy and multinomial naive bayes) and train-test sets, calculate metrics\n",
    "from sklearn.model_selection import train_test_split, KFold, cross_val_score\n",
    "from sklearn.naive_bayes import MultinomialNB\n",
    "from sklearn.dummy import DummyClassifier\n",
    "from sklearn.metrics import f1_score\n",
    "\n",
    "\n",
    "x_train, x_test, y_train, y_test = train_test_split(bow, message_df['target'], test_size=.10, random_state=42)\n",
    "\n",
    "mnnb_clf = MultinomialNB()\n",
    "dummy_clf = DummyClassifier(strategy='stratified',random_state=42)\n",
    "\n",
    "kf = KFold(n_splits=10,shuffle=True,random_state=42)\n",
    "\n",
    "scores_clf = {}\n",
    "scores_dummy = {}\n",
    "for score in ['accuracy','recall','precision','f1']:\n",
    "    cv_results = cross_val_score(mnnb_clf,x_train,y_train,cv=kf,scoring=score,n_jobs=-1)\n",
    "    scores_clf[score]=cv_results.mean()\n",
    "    cv_results = cross_val_score(dummy_clf,x_train,y_train,cv=kf,scoring=score,n_jobs=-1)\n",
    "    scores_dummy[score]=cv_results.mean()\n",
    "\n",
    "print('Cross validated dummy score:')\n",
    "for i in scores_clf:\n",
    "    print(f'{i}: {scores_dummy[i]:.3f}')\n",
    "print('\\nCross validated MN-NB classifier score:')\n",
    "for i in scores_clf:\n",
    "    print(f'{i}: {scores_clf[i]:.3f}')\n",
    "\n",
    "dummy_clf.fit(x_train,y_train)\n",
    "mnnb_clf.fit(x_train,y_train)\n",
    "    \n",
    "print('\\nTest set accuracy:')\n",
    "print(f'Dummy: {dummy_clf.score(x_test,y_test):.3f}')\n",
    "print(f'MN-NB classifier: {mnnb_clf.score(x_test,y_test):.3f}')"
   ]
  },
  {
   "cell_type": "code",
   "execution_count": 73,
   "id": "36f76e6a",
   "metadata": {},
   "outputs": [
    {
     "data": {
      "image/png": "[encoded data removed]",
      "text/plain": [
       "<Figure size 360x360 with 1 Axes>"
      ]
     },
     "metadata": {
      "needs_background": "light"
     },
     "output_type": "display_data"
    }
   ],
   "source": [
    "# Confusion matrix\n",
    "from sklearn.metrics import confusion_matrix\n",
    "from mlxtend.plotting import plot_confusion_matrix\n",
    "\n",
    "y_pred = mnnb_clf.predict(x_test)\n",
    "\n",
    "cm = confusion_matrix(y_test,y_pred)\n",
    "fig, ax = plot_confusion_matrix(cm,figsize=(5,5))\n",
    "plt.show()"
   ]
  },
  {
   "cell_type": "code",
   "execution_count": 78,
   "id": "8d7f0529",
   "metadata": {},
   "outputs": [
    {
     "name": "stdout",
     "output_type": "stream",
     "text": [
      "Area under curve:  0.9857129829467732\n"
     ]
    },
    {
     "data": {
      "image/png": "[encoded data removed]",
      "text/plain": [
       "<Figure size 432x288 with 1 Axes>"
      ]
     },
     "metadata": {
      "needs_background": "light"
     },
     "output_type": "display_data"
    }
   ],
   "source": [
    "# ROC curve and ROC-auc-score\n",
    "from sklearn.metrics import roc_curve, roc_auc_score\n",
    "y_proba = mnnb_clf.predict_proba(x_test)[:,1]\n",
    "fpr, tpr, thresholds = roc_curve(y_test,y_proba)\n",
    "print('Area under curve: ',roc_auc_score(y_test,y_proba))\n",
    "plt.plot(fpr,tpr)\n",
    "plt.plot([0,1],[0,1],'--')\n",
    "plt.show()"
   ]
  },
  {
   "cell_type": "code",
   "execution_count": null,
   "id": "3bdba2e8",
   "metadata": {},
   "outputs": [],
   "source": []
  }
 ],
 "metadata": {
  "kernelspec": {
   "display_name": "Python 3.8 (tensorflow)",
   "language": "python",
   "name": "tensorflow"
  },
  "language_info": {
   "codemirror_mode": {
    "name": "ipython",
    "version": 3
   },
   "file_extension": ".py",
   "mimetype": "text/x-python",
   "name": "python",
   "nbconvert_exporter": "python",
   "pygments_lexer": "ipython3",
   "version": "3.8.10"
  }
 },
 "nbformat": 4,
 "nbformat_minor": 5
}
